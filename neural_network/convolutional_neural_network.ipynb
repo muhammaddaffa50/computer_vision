{
  "nbformat": 4,
  "nbformat_minor": 0,
  "metadata": {
    "colab": {
      "name": "convolutional_neural_network.ipynb",
      "provenance": [],
      "include_colab_link": true
    },
    "kernelspec": {
      "name": "python3",
      "display_name": "Python 3"
    },
    "language_info": {
      "name": "python"
    }
  },
  "cells": [
    {
      "cell_type": "markdown",
      "metadata": {
        "id": "view-in-github",
        "colab_type": "text"
      },
      "source": [
        "<a href=\"https://colab.research.google.com/github/muhammaddaffa50/computer_vision/blob/main/neural_network/convolutional_neural_network.ipynb\" target=\"_parent\"><img src=\"https://colab.research.google.com/assets/colab-badge.svg\" alt=\"Open In Colab\"/></a>"
      ]
    },
    {
      "cell_type": "code",
      "metadata": {
        "colab": {
          "base_uri": "https://localhost:8080/"
        },
        "id": "TYG8HEb3Dkpa",
        "outputId": "d0b35c7a-507c-44a8-e139-7845dcc8539e"
      },
      "source": [
        "# Download dataset\n",
        "!wget --load-cookies /tmp/cookies.txt \"https://docs.google.com/uc?export=download&confirm=$(wget --quiet --save-cookies /tmp/cookies.txt --keep-session-cookies --no-check-certificate 'https://docs.google.com/uc?export=download&id=1A9XAMCPm8xSpPwSpeqm8lEqX_cmoFDpj' -O- | sed -rn 's/.confirm=([0-9A-Za-z_]+)./\\1\\n/p')&id=1A9XAMCPm8xSpPwSpeqm8lEqX_cmoFDpj\" -O /tmp/daun.zip && rm -rf /tmp/cookies.txt"
      ],
      "execution_count": null,
      "outputs": [
        {
          "output_type": "stream",
          "name": "stdout",
          "text": [
            "--2021-11-16 13:34:47--  https://docs.google.com/uc?export=download&confirm=&id=1A9XAMCPm8xSpPwSpeqm8lEqX_cmoFDpj\n",
            "Resolving docs.google.com (docs.google.com)... 173.194.196.100, 173.194.196.102, 173.194.196.139, ...\n",
            "Connecting to docs.google.com (docs.google.com)|173.194.196.100|:443... connected.\n",
            "HTTP request sent, awaiting response... 302 Moved Temporarily\n",
            "Location: https://doc-0s-6c-docs.googleusercontent.com/docs/securesc/3jp9nru1gft3vmc2u00eb6s9k4808rtp/pbfi96r0tod57t0enksg0agssgir0n42/1637069625000/05200325421108249014/09559622816733503537Z/1A9XAMCPm8xSpPwSpeqm8lEqX_cmoFDpj?e=download [following]\n",
            "--2021-11-16 13:34:48--  https://doc-0s-6c-docs.googleusercontent.com/docs/securesc/3jp9nru1gft3vmc2u00eb6s9k4808rtp/pbfi96r0tod57t0enksg0agssgir0n42/1637069625000/05200325421108249014/09559622816733503537Z/1A9XAMCPm8xSpPwSpeqm8lEqX_cmoFDpj?e=download\n",
            "Resolving doc-0s-6c-docs.googleusercontent.com (doc-0s-6c-docs.googleusercontent.com)... 172.217.212.132, 2607:f8b0:4001:c03::84\n",
            "Connecting to doc-0s-6c-docs.googleusercontent.com (doc-0s-6c-docs.googleusercontent.com)|172.217.212.132|:443... connected.\n",
            "HTTP request sent, awaiting response... 302 Found\n",
            "Location: https://docs.google.com/nonceSigner?nonce=9cokepv4se2lk&continue=https://doc-0s-6c-docs.googleusercontent.com/docs/securesc/3jp9nru1gft3vmc2u00eb6s9k4808rtp/pbfi96r0tod57t0enksg0agssgir0n42/1637069625000/05200325421108249014/09559622816733503537Z/1A9XAMCPm8xSpPwSpeqm8lEqX_cmoFDpj?e%3Ddownload&hash=dc0hgd2d0595devgbtv7s9uilcim14or [following]\n",
            "--2021-11-16 13:34:48--  https://docs.google.com/nonceSigner?nonce=9cokepv4se2lk&continue=https://doc-0s-6c-docs.googleusercontent.com/docs/securesc/3jp9nru1gft3vmc2u00eb6s9k4808rtp/pbfi96r0tod57t0enksg0agssgir0n42/1637069625000/05200325421108249014/09559622816733503537Z/1A9XAMCPm8xSpPwSpeqm8lEqX_cmoFDpj?e%3Ddownload&hash=dc0hgd2d0595devgbtv7s9uilcim14or\n",
            "Connecting to docs.google.com (docs.google.com)|173.194.196.100|:443... connected.\n",
            "HTTP request sent, awaiting response... 302 Found\n",
            "Location: https://doc-0s-6c-docs.googleusercontent.com/docs/securesc/3jp9nru1gft3vmc2u00eb6s9k4808rtp/pbfi96r0tod57t0enksg0agssgir0n42/1637069625000/05200325421108249014/09559622816733503537Z/1A9XAMCPm8xSpPwSpeqm8lEqX_cmoFDpj?e=download&nonce=9cokepv4se2lk&user=09559622816733503537Z&hash=69s9r33090ga92ivkdoolg0e21diadj3 [following]\n",
            "--2021-11-16 13:34:48--  https://doc-0s-6c-docs.googleusercontent.com/docs/securesc/3jp9nru1gft3vmc2u00eb6s9k4808rtp/pbfi96r0tod57t0enksg0agssgir0n42/1637069625000/05200325421108249014/09559622816733503537Z/1A9XAMCPm8xSpPwSpeqm8lEqX_cmoFDpj?e=download&nonce=9cokepv4se2lk&user=09559622816733503537Z&hash=69s9r33090ga92ivkdoolg0e21diadj3\n",
            "Connecting to doc-0s-6c-docs.googleusercontent.com (doc-0s-6c-docs.googleusercontent.com)|172.217.212.132|:443... connected.\n",
            "HTTP request sent, awaiting response... 200 OK\n",
            "Length: 9242938 (8.8M) [application/x-zip-compressed]\n",
            "Saving to: ‘/tmp/daun.zip’\n",
            "\n",
            "/tmp/daun.zip       100%[===================>]   8.81M  --.-KB/s    in 0.09s   \n",
            "\n",
            "2021-11-16 13:34:48 (103 MB/s) - ‘/tmp/daun.zip’ saved [9242938/9242938]\n",
            "\n"
          ]
        }
      ]
    },
    {
      "cell_type": "code",
      "metadata": {
        "id": "4rtnNrFsEDIf"
      },
      "source": [
        "# Ekstrak dataset\n",
        "\n",
        "import os\n",
        "import zipfile\n",
        "\n",
        "local_zip = '/tmp/daun.zip'\n",
        "zip_ref = zipfile.ZipFile(local_zip, 'r')\n",
        "zip_ref.extractall('/tmp')\n",
        "zip_ref.close()"
      ],
      "execution_count": null,
      "outputs": []
    },
    {
      "cell_type": "code",
      "metadata": {
        "id": "y9L_1kqnEEjc"
      },
      "source": [
        "# Definisikan path untuk data train dan data validation\n",
        "\n",
        "base_dir = '/tmp/daun'\n",
        "\n",
        "train_dir = os.path.join(base_dir, 'train')\n",
        "validation_dir = os.path.join(base_dir, 'validation')"
      ],
      "execution_count": null,
      "outputs": []
    },
    {
      "cell_type": "code",
      "metadata": {
        "id": "9gc0BCSREF0M"
      },
      "source": [
        "import cv2\n",
        "import numpy as np\n",
        "\n",
        "# Gather data train\n",
        "train_data = []\n",
        "train_label = []\n",
        "for r, d, f in os.walk(train_dir):\n",
        "    for file in f:\n",
        "        if \".png\" in file:\n",
        "            imagePath = os.path.join(r, file)\n",
        "            image = cv2.imread(imagePath)\n",
        "            image = cv2.resize(image, (150,150))\n",
        "            train_data.append(image)\n",
        "            label = imagePath.split(os.path.sep)[-2]\n",
        "            train_label.append(label)\n",
        "\n",
        "train_data = np.array(train_data)\n",
        "train_label = np.array(train_label)"
      ],
      "execution_count": null,
      "outputs": []
    },
    {
      "cell_type": "code",
      "metadata": {
        "id": "FuoKFhhVEG_O"
      },
      "source": [
        "# Gather data validation\n",
        "val_data = []\n",
        "val_label = []\n",
        "for r, d, f in os.walk(validation_dir):\n",
        "    for file in f:\n",
        "        if \".png\" in file:\n",
        "            imagePath = os.path.join(r, file)\n",
        "            image = cv2.imread(imagePath)\n",
        "            image = cv2.resize(image, (150,150))\n",
        "            val_data.append(image)\n",
        "            label = imagePath.split(os.path.sep)[-2]\n",
        "            val_label.append(label)\n",
        "\n",
        "val_data = np.array(val_data)\n",
        "val_label = np.array(val_label)"
      ],
      "execution_count": null,
      "outputs": []
    },
    {
      "cell_type": "markdown",
      "metadata": {
        "id": "kiXbwrN3ELqv"
      },
      "source": [
        "<h3>Data Preprocessing</h3>"
      ]
    },
    {
      "cell_type": "code",
      "metadata": {
        "colab": {
          "base_uri": "https://localhost:8080/"
        },
        "id": "m5VhnvtrEI1I",
        "outputId": "694afa55-72f3-4884-8807-7ff31f45fe25"
      },
      "source": [
        "# Tampilkan shape dari data train dan data validation\n",
        "print(\"Train Data = \", train_data.shape)\n",
        "print(\"Train Label = \", train_label.shape)\n",
        "print(\"Validation Data = \", val_data.shape)\n",
        "print(\"Validation Label = \", val_label.shape)"
      ],
      "execution_count": null,
      "outputs": [
        {
          "output_type": "stream",
          "name": "stdout",
          "text": [
            "Train Data =  (70, 150, 150, 3)\n",
            "Train Label =  (70,)\n",
            "Validation Data =  (30, 150, 150, 3)\n",
            "Validation Label =  (30,)\n"
          ]
        }
      ]
    },
    {
      "cell_type": "code",
      "metadata": {
        "colab": {
          "base_uri": "https://localhost:8080/"
        },
        "id": "q1LVp6dCENne",
        "outputId": "c03a0a18-c5a7-4edf-d991-52bbada16d7e"
      },
      "source": [
        "# Normalisasi dataset\n",
        "print(\"Data sebelum di-normalisasi \", train_data[0][0][0])\n",
        "\n",
        "x_train = train_data.astype('float32') / 255.0\n",
        "x_val = val_data.astype('float32') / 255.0\n",
        "print(\"Data setelah di-normalisasi \", x_train[0][0][0])"
      ],
      "execution_count": null,
      "outputs": [
        {
          "output_type": "stream",
          "name": "stdout",
          "text": [
            "Data sebelum di-normalisasi  [255 255 255]\n",
            "Data setelah di-normalisasi  [1. 1. 1.]\n"
          ]
        }
      ]
    },
    {
      "cell_type": "code",
      "metadata": {
        "colab": {
          "base_uri": "https://localhost:8080/"
        },
        "id": "tc7FivC6EPhm",
        "outputId": "cc7be635-4750-45fb-fb79-0fac3b10f151"
      },
      "source": [
        "# Transformasi label encoder\n",
        "from sklearn.preprocessing import LabelEncoder\n",
        "\n",
        "print(\"Label sebelum di-encoder \", train_label[30:40])\n",
        "\n",
        "lb = LabelEncoder()\n",
        "y_train = lb.fit_transform(train_label)\n",
        "y_val = lb.fit_transform(val_label)\n",
        "\n",
        "print(\"Label setelah di-encoder \", y_train[30:40])"
      ],
      "execution_count": null,
      "outputs": [
        {
          "output_type": "stream",
          "name": "stdout",
          "text": [
            "Label sebelum di-encoder  ['jeruknipis' 'jeruknipis' 'jeruknipis' 'jeruknipis' 'jeruknipis'\n",
            " 'belimbingwuluh' 'belimbingwuluh' 'belimbingwuluh' 'belimbingwuluh'\n",
            " 'belimbingwuluh']\n",
            "Label setelah di-encoder  [1 1 1 1 1 0 0 0 0 0]\n"
          ]
        }
      ]
    },
    {
      "cell_type": "markdown",
      "metadata": {
        "id": "4jVWbOhOEzQJ"
      },
      "source": [
        "<h3>Definisikan Model</h3>"
      ]
    },
    {
      "cell_type": "code",
      "metadata": {
        "id": "usLiFiwAEvVb"
      },
      "source": [
        "from tensorflow.keras.models import Sequential\n",
        "from tensorflow.keras.layers import InputLayer, Dense, Conv2D, MaxPool2D, Flatten"
      ],
      "execution_count": null,
      "outputs": []
    },
    {
      "cell_type": "code",
      "metadata": {
        "id": "rDwzxacpE1ei"
      },
      "source": [
        "# Feature Extraction Layer\n",
        "model = Sequential()\n",
        "\n",
        "model.add(InputLayer(input_shape=[150,150,3]))\n",
        "model.add(Conv2D(filters=16, kernel_size=3, strides=1, padding='same', activation='relu'))\n",
        "model.add(MaxPool2D(pool_size=2, padding='same'))\n",
        "model.add(Conv2D(filters=32, kernel_size=3, strides=1, padding='same', activation='relu'))\n",
        "model.add(MaxPool2D(pool_size=2, padding='same'))\n",
        "model.add(Conv2D(filters=64, kernel_size=3, strides=1, padding='same', activation='relu'))\n",
        "model.add(MaxPool2D(pool_size=2, padding='same'))\n",
        "model.add(Flatten())"
      ],
      "execution_count": null,
      "outputs": []
    },
    {
      "cell_type": "code",
      "metadata": {
        "id": "Sud1AUF0E2k8"
      },
      "source": [
        "# Fully Connected Layer\n",
        "model.add(Dense(128, activation='relu'))\n",
        "model.add(Dense(1, activation='sigmoid'))"
      ],
      "execution_count": null,
      "outputs": []
    },
    {
      "cell_type": "code",
      "metadata": {
        "colab": {
          "base_uri": "https://localhost:8080/"
        },
        "id": "XW-KE9ePE466",
        "outputId": "f2f1cc7f-82ff-4a5d-bde0-ec3b94e359ec"
      },
      "source": [
        "# Print model summary\n",
        "print(model.summary())"
      ],
      "execution_count": null,
      "outputs": [
        {
          "output_type": "stream",
          "name": "stdout",
          "text": [
            "Model: \"sequential_1\"\n",
            "_________________________________________________________________\n",
            " Layer (type)                Output Shape              Param #   \n",
            "=================================================================\n",
            " conv2d_3 (Conv2D)           (None, 150, 150, 16)      448       \n",
            "                                                                 \n",
            " max_pooling2d_3 (MaxPooling  (None, 75, 75, 16)       0         \n",
            " 2D)                                                             \n",
            "                                                                 \n",
            " conv2d_4 (Conv2D)           (None, 75, 75, 32)        4640      \n",
            "                                                                 \n",
            " max_pooling2d_4 (MaxPooling  (None, 38, 38, 32)       0         \n",
            " 2D)                                                             \n",
            "                                                                 \n",
            " conv2d_5 (Conv2D)           (None, 38, 38, 64)        18496     \n",
            "                                                                 \n",
            " max_pooling2d_5 (MaxPooling  (None, 19, 19, 64)       0         \n",
            " 2D)                                                             \n",
            "                                                                 \n",
            " flatten_1 (Flatten)         (None, 23104)             0         \n",
            "                                                                 \n",
            " dense (Dense)               (None, 128)               2957440   \n",
            "                                                                 \n",
            " dense_1 (Dense)             (None, 1)                 129       \n",
            "                                                                 \n",
            "=================================================================\n",
            "Total params: 2,981,153\n",
            "Trainable params: 2,981,153\n",
            "Non-trainable params: 0\n",
            "_________________________________________________________________\n",
            "None\n"
          ]
        }
      ]
    },
    {
      "cell_type": "code",
      "metadata": {
        "colab": {
          "base_uri": "https://localhost:8080/"
        },
        "id": "Tais64D7E5Zo",
        "outputId": "3ed580d2-8020-45ca-8608-36ef6c07d54d"
      },
      "source": [
        "# Compile model\n",
        "from tensorflow.keras.optimizers import Adam\n",
        "\n",
        "model.compile(optimizer=Adam(lr=0.001), \n",
        "              loss='binary_crossentropy', \n",
        "              metrics=['acc'])"
      ],
      "execution_count": null,
      "outputs": [
        {
          "output_type": "stream",
          "name": "stderr",
          "text": [
            "/usr/local/lib/python3.7/dist-packages/keras/optimizer_v2/adam.py:105: UserWarning: The `lr` argument is deprecated, use `learning_rate` instead.\n",
            "  super(Adam, self).__init__(name, **kwargs)\n"
          ]
        }
      ]
    },
    {
      "cell_type": "markdown",
      "metadata": {
        "id": "NTNBH19iE8kt"
      },
      "source": [
        "<h3>Training Model</h3>"
      ]
    },
    {
      "cell_type": "code",
      "metadata": {
        "colab": {
          "base_uri": "https://localhost:8080/"
        },
        "id": "p4Vr8dyvE6pM",
        "outputId": "c91586fc-4cd0-4ebd-87b2-56145cae2672"
      },
      "source": [
        "H = model.fit(x_train, y_train, batch_size=20, epochs=15, validation_data=(x_val, y_val))"
      ],
      "execution_count": null,
      "outputs": [
        {
          "output_type": "stream",
          "name": "stdout",
          "text": [
            "Epoch 1/15\n",
            "4/4 [==============================] - 3s 508ms/step - loss: 1.0116 - acc: 0.6286 - val_loss: 0.7481 - val_acc: 0.5000\n",
            "Epoch 2/15\n",
            "4/4 [==============================] - 2s 425ms/step - loss: 0.7180 - acc: 0.5000 - val_loss: 0.6542 - val_acc: 0.5000\n",
            "Epoch 3/15\n",
            "4/4 [==============================] - 2s 424ms/step - loss: 0.6319 - acc: 0.6571 - val_loss: 0.5502 - val_acc: 0.9667\n",
            "Epoch 4/15\n",
            "4/4 [==============================] - 2s 426ms/step - loss: 0.5155 - acc: 0.8857 - val_loss: 0.3629 - val_acc: 0.9667\n",
            "Epoch 5/15\n",
            "4/4 [==============================] - 2s 424ms/step - loss: 0.3964 - acc: 0.8000 - val_loss: 0.1920 - val_acc: 0.9667\n",
            "Epoch 6/15\n",
            "4/4 [==============================] - 2s 423ms/step - loss: 0.2126 - acc: 0.9429 - val_loss: 0.2539 - val_acc: 0.9000\n",
            "Epoch 7/15\n",
            "4/4 [==============================] - 2s 432ms/step - loss: 0.1780 - acc: 0.9429 - val_loss: 0.1449 - val_acc: 0.9667\n",
            "Epoch 8/15\n",
            "4/4 [==============================] - 2s 423ms/step - loss: 0.1762 - acc: 0.9286 - val_loss: 0.1096 - val_acc: 0.9667\n",
            "Epoch 9/15\n",
            "4/4 [==============================] - 2s 425ms/step - loss: 0.0874 - acc: 0.9714 - val_loss: 0.1997 - val_acc: 0.9667\n",
            "Epoch 10/15\n",
            "4/4 [==============================] - 2s 425ms/step - loss: 0.1197 - acc: 0.9286 - val_loss: 0.1796 - val_acc: 0.9667\n",
            "Epoch 11/15\n",
            "4/4 [==============================] - 2s 424ms/step - loss: 0.0583 - acc: 0.9714 - val_loss: 0.1141 - val_acc: 0.9667\n",
            "Epoch 12/15\n",
            "4/4 [==============================] - 2s 426ms/step - loss: 0.0446 - acc: 0.9857 - val_loss: 0.0882 - val_acc: 0.9667\n",
            "Epoch 13/15\n",
            "4/4 [==============================] - 2s 432ms/step - loss: 0.0280 - acc: 0.9857 - val_loss: 0.1916 - val_acc: 0.9667\n",
            "Epoch 14/15\n",
            "4/4 [==============================] - 2s 422ms/step - loss: 0.0427 - acc: 0.9857 - val_loss: 0.1284 - val_acc: 0.9667\n",
            "Epoch 15/15\n",
            "4/4 [==============================] - 2s 422ms/step - loss: 0.0166 - acc: 1.0000 - val_loss: 0.0854 - val_acc: 0.9667\n"
          ]
        }
      ]
    },
    {
      "cell_type": "markdown",
      "metadata": {
        "id": "HuxjW35RFCZ6"
      },
      "source": [
        "<h3>Evaluasi Model</h3>"
      ]
    },
    {
      "cell_type": "code",
      "metadata": {
        "colab": {
          "base_uri": "https://localhost:8080/",
          "height": 298
        },
        "id": "1AM3ms3zE_AU",
        "outputId": "215126d8-c4d4-496f-e553-82a1e3653508"
      },
      "source": [
        "%matplotlib inline\n",
        "\n",
        "import matplotlib.pyplot as plt\n",
        "\n",
        "plt.style.use(\"ggplot\")\n",
        "plt.figure()\n",
        "plt.plot(np.arange(0, 15), H.history[\"loss\"], label=\"train_loss\")\n",
        "plt.plot(np.arange(0, 15), H.history[\"val_loss\"], label=\"val_loss\")\n",
        "plt.title(\"Loss Plot\")\n",
        "plt.xlabel(\"Epoch #\")\n",
        "plt.ylabel(\"Loss\")\n",
        "plt.legend()\n",
        "plt.show()"
      ],
      "execution_count": null,
      "outputs": [
        {
          "output_type": "display_data",
          "data": {
            "image/png": "[encoded data removed]",
            "text/plain": [
              "<Figure size 432x288 with 1 Axes>"
            ]
          },
          "metadata": {}
        }
      ]
    },
    {
      "cell_type": "code",
      "metadata": {
        "colab": {
          "base_uri": "https://localhost:8080/",
          "height": 298
        },
        "id": "q1SJWudcFEDL",
        "outputId": "a8efa239-1e0b-4723-b0ab-4fbd8d638d2e"
      },
      "source": [
        "plt.style.use(\"ggplot\")\n",
        "plt.figure()\n",
        "plt.plot(np.arange(0, 15), H.history[\"acc\"], label=\"train_acc\")\n",
        "plt.plot(np.arange(0, 15), H.history[\"val_acc\"], label=\"val_acc\")\n",
        "plt.title(\"Accuracy Plot\")\n",
        "plt.xlabel(\"Epoch #\")\n",
        "plt.ylabel(\"Acc\")\n",
        "plt.legend()\n",
        "plt.show()"
      ],
      "execution_count": null,
      "outputs": [
        {
          "output_type": "display_data",
          "data": {
            "image/png": "[encoded data removed]",
            "text/plain": [
              "<Figure size 432x288 with 1 Axes>"
            ]
          },
          "metadata": {}
        }
      ]
    },
    {
      "cell_type": "code",
      "metadata": {
        "colab": {
          "base_uri": "https://localhost:8080/"
        },
        "id": "H_8mB3igFG-x",
        "outputId": "2022f022-0362-4d76-b98a-bfc8b4620508"
      },
      "source": [
        "from sklearn.metrics import classification_report\n",
        "\n",
        "pred = model.predict(x_val)\n",
        "labels = (pred > 0.5).astype(np.int)\n",
        "\n",
        "print(classification_report(y_val, labels))"
      ],
      "execution_count": null,
      "outputs": [
        {
          "output_type": "stream",
          "name": "stdout",
          "text": [
            "              precision    recall  f1-score   support\n",
            "\n",
            "           0       1.00      0.93      0.97        15\n",
            "           1       0.94      1.00      0.97        15\n",
            "\n",
            "    accuracy                           0.97        30\n",
            "   macro avg       0.97      0.97      0.97        30\n",
            "weighted avg       0.97      0.97      0.97        30\n",
            "\n"
          ]
        }
      ]
    }
  ]
}